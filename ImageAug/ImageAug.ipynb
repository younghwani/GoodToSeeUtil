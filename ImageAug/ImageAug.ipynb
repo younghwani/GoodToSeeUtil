{
 "cells": [
  {
   "cell_type": "code",
   "execution_count": 1,
   "metadata": {},
   "outputs": [],
   "source": [
    "import xml.etree.ElementTree as ET\n",
    "\n",
    "def read_anntation(xml_file: str):\n",
    "    tree = ET.parse(xml_file)\n",
    "    root = tree.getroot()\n",
    "\n",
    "    bounding_box_list = []\n",
    "\n",
    "    file_name = root.find('filename').text\n",
    "    for obj in root.iter('object'):\n",
    "\n",
    "        object_label = obj.find(\"name\").text\n",
    "        for box in obj.findall(\"bndbox\"):\n",
    "            x_min = int(box.find(\"xmin\").text)\n",
    "            y_min = int(box.find(\"ymin\").text)\n",
    "            x_max = int(box.find(\"xmax\").text)\n",
    "            y_max = int(box.find(\"ymax\").text)\n",
    "\n",
    "        bounding_box = [object_label, x_min, y_min, x_max, y_max]\n",
    "        bounding_box_list.append(bounding_box)\n",
    "\n",
    "    return bounding_box_list, file_name"
   ]
  },
  {
   "cell_type": "code",
   "execution_count": 2,
   "metadata": {},
   "outputs": [],
   "source": [
    "from os import listdir\n",
    "import cv2\n",
    "import numpy as np\n",
    "\n",
    "def read_train_dataset(dir):\n",
    "    images = []\n",
    "    annotations = []\n",
    "\n",
    "    for file in listdir(dir):\n",
    "        if 'jpg' in file.lower() or 'png' in file.lower():\n",
    "            images.append(cv2.imread(dir + file, 1))\n",
    "            annotation_file = file.replace(file.split('.')[-1], 'xml')\n",
    "            bounding_box_list, file_name = read_anntation(dir + annotation_file)\n",
    "            annotations.append((bounding_box_list, annotation_file, file_name))\n",
    "\n",
    "    images = np.array(images)\n",
    "\n",
    "    return images, annotations"
   ]
  },
  {
   "cell_type": "code",
   "execution_count": 3,
   "metadata": {},
   "outputs": [],
   "source": [
    "import imgaug as ia\n",
    "from imgaug import augmenters as iaa\n",
    "from files import *\n",
    "from pascal_voc_writer import Writer\n",
    "from tqdm import tqdm_notebook"
   ]
  },
  {
   "cell_type": "code",
   "execution_count": 4,
   "metadata": {},
   "outputs": [],
   "source": [
    "# 사물 rotation (bounding box도 그에 맞게 rotation)\n",
    "def rotation(input_dir, output_dir):\n",
    "    ia.seed(1)\n",
    "    dir = input_dir\n",
    "    images, annotations = read_train_dataset(dir)\n",
    "\n",
    "    for idx in tqdm_notebook(range(len(images))):\n",
    "        image = images[idx]\n",
    "        boxes = annotations[idx][0]\n",
    "\n",
    "        ia_bounding_boxes = []\n",
    "        for box in boxes:\n",
    "            ia_bounding_boxes.append(ia.BoundingBox(x1=box[1], y1=box[2], x2=box[3], y2=box[4]))\n",
    "\n",
    "        bbs = ia.BoundingBoxesOnImage(ia_bounding_boxes, shape=image.shape)\n",
    "\n",
    "        seq = iaa.Sequential([\n",
    "            iaa.Affine(\n",
    "                translate_px={\"x\": (0, 5), \"y\": (-15, -10)}, # 사진 중심 위치 조정하는 것. # (0,5)는 x축이 0에서 5사이로 랜덤으로 하게\n",
    "                # ex) x값이 음수이고 절댓값 클수록 왼쪽으로\n",
    "                scale =(0.65, 0.7), # 크기. 0.65배~0.7배 사이 랜덤으로 크기 축소함.\n",
    "                rotate= (-90, 90) # 회전하는 각도.\n",
    "                # 시행착오 겪으며 설정한 지금의 scale, translate_px 값이 제일 괜찮은 듯 합니다.\n",
    "            )\n",
    "        ])\n",
    "\n",
    "        seq_det = seq.to_deterministic()\n",
    "\n",
    "        image_aug = seq_det.augment_images([image])[0]\n",
    "        bbs_aug = seq_det.augment_bounding_boxes([bbs])[0]\n",
    "\n",
    "        new_image_file = output_dir + annotations[idx][2]\n",
    "        cv2.imwrite(new_image_file, image_aug)\n",
    "\n",
    "        h, w = np.shape(image_aug)[0:2]\n",
    "        voc_writer = Writer(new_image_file, w, h)\n",
    "\n",
    "        for i in range(len(bbs_aug.bounding_boxes)):\n",
    "            bb_box = bbs_aug.bounding_boxes[i]\n",
    "            voc_writer.addObject(boxes[i][0], int(bb_box.x1), int(bb_box.y1), int(bb_box.x2), int(bb_box.y2))\n",
    "\n",
    "        voc_writer.save(output_dir + annotations[idx][1])"
   ]
  },
  {
   "cell_type": "code",
   "execution_count": 5,
   "metadata": {},
   "outputs": [],
   "source": [
    "# blur 처리\n",
    "def blur(input_dir, output_dir):\n",
    "    ia.seed(1)\n",
    "    dir = input_dir\n",
    "    images, annotations = read_train_dataset(dir)\n",
    "\n",
    "    for idx in tqdm_notebook(range(len(images))):\n",
    "        image = images[idx]\n",
    "        boxes = annotations[idx][0]\n",
    "\n",
    "        ia_bounding_boxes = []\n",
    "        for box in boxes:\n",
    "            ia_bounding_boxes.append(ia.BoundingBox(x1=box[1], y1=box[2], x2=box[3], y2=box[4]))\n",
    "\n",
    "        bbs = ia.BoundingBoxesOnImage(ia_bounding_boxes, shape=image.shape)\n",
    "\n",
    "        seq = iaa.GaussianBlur(sigma=(2.0, 3.0)) # 가우시안 블러 처리\n",
    "\n",
    "        seq_det = seq.to_deterministic()\n",
    "\n",
    "        image_aug = seq_det.augment_images([image])[0]\n",
    "        bbs_aug = seq_det.augment_bounding_boxes([bbs])[0]\n",
    "\n",
    "        new_image_file = output_dir + annotations[idx][2]\n",
    "        cv2.imwrite(new_image_file, image_aug)\n",
    "\n",
    "        h, w = np.shape(image_aug)[0:2]\n",
    "        voc_writer = Writer(new_image_file, w, h)\n",
    "\n",
    "        for i in range(len(bbs_aug.bounding_boxes)):\n",
    "            bb_box = bbs_aug.bounding_boxes[i]\n",
    "            voc_writer.addObject(boxes[i][0], int(bb_box.x1), int(bb_box.y1), int(bb_box.x2), int(bb_box.y2))\n",
    "\n",
    "        voc_writer.save(output_dir + annotations[idx][1])"
   ]
  },
  {
   "cell_type": "code",
   "execution_count": 6,
   "metadata": {},
   "outputs": [],
   "source": [
    "# noise 처리\n",
    "def noise(input_dir, output_dir):\n",
    "    ia.seed(1)\n",
    "\n",
    "    dir = input_dir\n",
    "    images, annotations = read_train_dataset(dir)\n",
    "\n",
    "    for idx in tqdm_notebook(range(len(images))):\n",
    "        image = images[idx]\n",
    "        boxes = annotations[idx][0]\n",
    "\n",
    "        ia_bounding_boxes = []\n",
    "        for box in boxes:\n",
    "            ia_bounding_boxes.append(ia.BoundingBox(x1=box[1], y1=box[2], x2=box[3], y2=box[4]))\n",
    "\n",
    "        bbs = ia.BoundingBoxesOnImage(ia_bounding_boxes, shape=image.shape)\n",
    "\n",
    "        seq = iaa.AdditiveGaussianNoise(scale=(0, 35)) # 노이즈 중에 가우시안 노이즈 채택 (scale 최댓값 0.2*255)\n",
    "        # 모델 학습에 좋은 노이즈. 적용해봤을 때도 크게 과하지 않는 정규분포를 띠는 노이즈\n",
    "\n",
    "        seq_det = seq.to_deterministic()\n",
    "\n",
    "        image_aug = seq_det.augment_images([image])[0]\n",
    "        bbs_aug = seq_det.augment_bounding_boxes([bbs])[0]\n",
    "\n",
    "        new_image_file = output_dir + annotations[idx][2]\n",
    "        cv2.imwrite(new_image_file, image_aug)\n",
    "\n",
    "        h, w = np.shape(image_aug)[0:2]\n",
    "        voc_writer = Writer(new_image_file, w, h)\n",
    "\n",
    "        for i in range(len(bbs_aug.bounding_boxes)):\n",
    "            bb_box = bbs_aug.bounding_boxes[i]\n",
    "            voc_writer.addObject(boxes[i][0], int(bb_box.x1), int(bb_box.y1), int(bb_box.x2), int(bb_box.y2))\n",
    "\n",
    "        voc_writer.save(output_dir + annotations[idx][1])"
   ]
  },
  {
   "cell_type": "code",
   "execution_count": 7,
   "metadata": {
    "scrolled": true
   },
   "outputs": [],
   "source": [
    "# bright 처리\n",
    "def bright(input_dir, output_dir):\n",
    "    ia.seed(1)\n",
    "\n",
    "    dir = input_dir\n",
    "    images, annotations = read_train_dataset(dir)\n",
    "\n",
    "    for idx in tqdm_notebook(range(len(images))):\n",
    "        image = images[idx]\n",
    "        boxes = annotations[idx][0]\n",
    "\n",
    "        ia_bounding_boxes = []\n",
    "        for box in boxes:\n",
    "            ia_bounding_boxes.append(ia.BoundingBox(x1=box[1], y1=box[2], x2=box[3], y2=box[4]))\n",
    "\n",
    "        bbs = ia.BoundingBoxesOnImage(ia_bounding_boxes, shape=image.shape)\n",
    "\n",
    "        seq = iaa.Multiply((1.25, 1.5)) # 1.25~1.5배 사이에서 랜덤으로 밝아짐 (0.5~1.5 값만 설정 가능)\n",
    "        seq_det = seq.to_deterministic()\n",
    "\n",
    "        image_aug = seq_det.augment_images([image])[0]\n",
    "        bbs_aug = seq_det.augment_bounding_boxes([bbs])[0]\n",
    "\n",
    "        new_image_file = output_dir + annotations[idx][2]\n",
    "        cv2.imwrite(new_image_file, image_aug)\n",
    "\n",
    "        h, w = np.shape(image_aug)[0:2]\n",
    "        voc_writer = Writer(new_image_file, w, h)\n",
    "\n",
    "        for i in range(len(bbs_aug.bounding_boxes)):\n",
    "            bb_box = bbs_aug.bounding_boxes[i]\n",
    "            voc_writer.addObject(boxes[i][0], int(bb_box.x1), int(bb_box.y1), int(bb_box.x2), int(bb_box.y2))\n",
    "\n",
    "        voc_writer.save(output_dir + annotations[idx][1])"
   ]
  },
  {
   "cell_type": "code",
   "execution_count": 8,
   "metadata": {
    "scrolled": true
   },
   "outputs": [],
   "source": [
    "# 박스 랜덤 위치에 생성\n",
    "def box(input_dir, output_dir):\n",
    "    ia.seed(1)\n",
    "\n",
    "    dir = input_dir\n",
    "    images, annotations = read_train_dataset(dir)\n",
    "\n",
    "    for idx in tqdm_notebook(range(len(images))):\n",
    "        image = images[idx]\n",
    "        boxes = annotations[idx][0]\n",
    "\n",
    "        ia_bounding_boxes = []\n",
    "        for box in boxes:\n",
    "            ia_bounding_boxes.append(ia.BoundingBox(x1=box[1], y1=box[2], x2=box[3], y2=box[4]))\n",
    "\n",
    "        bbs = ia.BoundingBoxesOnImage(ia_bounding_boxes, shape=image.shape)\n",
    "\n",
    "        seq = iaa.Cutout(nb_iterations=(1, 5), size=0.15, squared=False) # 박스1~5개 랜덤 생성\n",
    "\n",
    "        seq_det = seq.to_deterministic()\n",
    "\n",
    "        image_aug = seq_det.augment_images([image])[0]\n",
    "        bbs_aug = seq_det.augment_bounding_boxes([bbs])[0]\n",
    "\n",
    "        new_image_file = output_dir + annotations[idx][2]\n",
    "        cv2.imwrite(new_image_file, image_aug)\n",
    "\n",
    "        h, w = np.shape(image_aug)[0:2]\n",
    "        voc_writer = Writer(new_image_file, w, h)\n",
    "\n",
    "        for i in range(len(bbs_aug.bounding_boxes)):\n",
    "            bb_box = bbs_aug.bounding_boxes[i]\n",
    "            voc_writer.addObject(boxes[i][0], int(bb_box.x1), int(bb_box.y1), int(bb_box.x2), int(bb_box.y2))\n",
    "\n",
    "        voc_writer.save(output_dir + annotations[idx][1])"
   ]
  },
  {
   "cell_type": "code",
   "execution_count": 12,
   "metadata": {},
   "outputs": [],
   "source": [
    "# 모션 블러 (움직이다가 찍은 것과 같은 효과를 줌)\n",
    "def motionblur(input_dir, output_dir):\n",
    "    ia.seed(1)\n",
    "\n",
    "    dir = input_dir\n",
    "    images, annotations = read_train_dataset(dir)\n",
    "\n",
    "    for idx in tqdm_notebook(range(len(images))):\n",
    "        image = images[idx]\n",
    "        boxes = annotations[idx][0]\n",
    "\n",
    "        ia_bounding_boxes = []\n",
    "        for box in boxes:\n",
    "            ia_bounding_boxes.append(ia.BoundingBox(x1=box[1], y1=box[2], x2=box[3], y2=box[4]))\n",
    "\n",
    "        bbs = ia.BoundingBoxesOnImage(ia_bounding_boxes, shape=image.shape)\n",
    "\n",
    "        seq = iaa.MotionBlur(k=15)\n",
    "        # 15x15 픽셀만큼 이동한 효과를 준다.\n",
    "        # angle 옵션은 따로 설정하지 않아 여러 각도에서 랜덤하게 움직인 것처럼 해준다.\n",
    "\n",
    "        seq_det = seq.to_deterministic()\n",
    "\n",
    "        image_aug = seq_det.augment_images([image])[0]\n",
    "        bbs_aug = seq_det.augment_bounding_boxes([bbs])[0]\n",
    "\n",
    "        new_image_file = output_dir + annotations[idx][2]\n",
    "        cv2.imwrite(new_image_file, image_aug)\n",
    "\n",
    "        h, w = np.shape(image_aug)[0:2]\n",
    "        voc_writer = Writer(new_image_file, w, h)\n",
    "\n",
    "        for i in range(len(bbs_aug.bounding_boxes)):\n",
    "            bb_box = bbs_aug.bounding_boxes[i]\n",
    "            voc_writer.addObject(boxes[i][0], int(bb_box.x1), int(bb_box.y1), int(bb_box.x2), int(bb_box.y2))\n",
    "\n",
    "        voc_writer.save(output_dir + annotations[idx][1])"
   ]
  },
  {
   "cell_type": "code",
   "execution_count": 18,
   "metadata": {},
   "outputs": [],
   "source": [
    "# 채도 조정(채도를 높이거나 낮춤)\n",
    "def color(input_dir, output_dir):\n",
    "    ia.seed(1)\n",
    "\n",
    "    dir = input_dir\n",
    "    images, annotations = read_train_dataset(dir)\n",
    "\n",
    "    for idx in tqdm_notebook(range(len(images))):\n",
    "        image = images[idx]\n",
    "        boxes = annotations[idx][0]\n",
    "\n",
    "        ia_bounding_boxes = []\n",
    "        for box in boxes:\n",
    "            ia_bounding_boxes.append(ia.BoundingBox(x1=box[1], y1=box[2], x2=box[3], y2=box[4]))\n",
    "\n",
    "        bbs = ia.BoundingBoxesOnImage(ia_bounding_boxes, shape=image.shape)\n",
    "\n",
    "        seq = iaa.pillike.EnhanceColor(0.65, 3)\n",
    "        # 1일 경우 채도를 그대로 둔다. 이를 기준으로\n",
    "        # 랜덤하게 채도를 높이거나 낮춘다.\n",
    "\n",
    "        seq_det = seq.to_deterministic()\n",
    "\n",
    "        image_aug = seq_det.augment_images([image])[0]\n",
    "        bbs_aug = seq_det.augment_bounding_boxes([bbs])[0]\n",
    "\n",
    "        new_image_file = output_dir + annotations[idx][2]\n",
    "        cv2.imwrite(new_image_file, image_aug)\n",
    "\n",
    "        h, w = np.shape(image_aug)[0:2]\n",
    "        voc_writer = Writer(new_image_file, w, h)\n",
    "\n",
    "        for i in range(len(bbs_aug.bounding_boxes)):\n",
    "            bb_box = bbs_aug.bounding_boxes[i]\n",
    "            voc_writer.addObject(boxes[i][0], int(bb_box.x1), int(bb_box.y1), int(bb_box.x2), int(bb_box.y2))\n",
    "\n",
    "        voc_writer.save(output_dir + annotations[idx][1])"
   ]
  },
  {
   "cell_type": "code",
   "execution_count": 23,
   "metadata": {},
   "outputs": [],
   "source": [
    "# 픽셀화\n",
    "def pixel(input_dir, output_dir):\n",
    "    ia.seed(1)\n",
    "\n",
    "    dir = input_dir\n",
    "    images, annotations = read_train_dataset(dir)\n",
    "\n",
    "    for idx in tqdm_notebook(range(len(images))):\n",
    "        image = images[idx]\n",
    "        boxes = annotations[idx][0]\n",
    "\n",
    "        ia_bounding_boxes = []\n",
    "        for box in boxes:\n",
    "            ia_bounding_boxes.append(ia.BoundingBox(x1=box[1], y1=box[2], x2=box[3], y2=box[4]))\n",
    "\n",
    "        bbs = ia.BoundingBoxesOnImage(ia_bounding_boxes, shape=image.shape)\n",
    "\n",
    "        points_sampler = iaa.RegularGridPointsSampler(n_cols=20, n_rows=40)\n",
    "        # column 20개, row 40개로 구성된 픽셀 이미지를 구성한다\n",
    "        seq = iaa.Voronoi(points_sampler)\n",
    "        \n",
    "        seq_det = seq.to_deterministic()\n",
    "\n",
    "        image_aug = seq_det.augment_images([image])[0]\n",
    "        bbs_aug = seq_det.augment_bounding_boxes([bbs])[0]\n",
    "\n",
    "        new_image_file = output_dir + annotations[idx][2]\n",
    "        cv2.imwrite(new_image_file, image_aug)\n",
    "\n",
    "        h, w = np.shape(image_aug)[0:2]\n",
    "        voc_writer = Writer(new_image_file, w, h)\n",
    "\n",
    "        for i in range(len(bbs_aug.bounding_boxes)):\n",
    "            bb_box = bbs_aug.bounding_boxes[i]\n",
    "            voc_writer.addObject(boxes[i][0], int(bb_box.x1), int(bb_box.y1), int(bb_box.x2), int(bb_box.y2))\n",
    "\n",
    "        voc_writer.save(output_dir + annotations[idx][1])"
   ]
  },
  {
   "cell_type": "code",
   "execution_count": 30,
   "metadata": {},
   "outputs": [],
   "source": [
    "# 선명도 랜덤 조정, 선명도를 높이거나 낮춘다.\n",
    "def sharpness(input_dir, output_dir):\n",
    "    ia.seed(1)\n",
    "\n",
    "    dir = input_dir\n",
    "    images, annotations = read_train_dataset(dir)\n",
    "\n",
    "    for idx in tqdm_notebook(range(len(images))):\n",
    "        image = images[idx]\n",
    "        boxes = annotations[idx][0]\n",
    "\n",
    "        ia_bounding_boxes = []\n",
    "        for box in boxes:\n",
    "            ia_bounding_boxes.append(ia.BoundingBox(x1=box[1], y1=box[2], x2=box[3], y2=box[4]))\n",
    "\n",
    "        bbs = ia.BoundingBoxesOnImage(ia_bounding_boxes, shape=image.shape)\n",
    "\n",
    "        seq = iaa.pillike.EnhanceSharpness()\n",
    "        \n",
    "        seq_det = seq.to_deterministic()\n",
    "\n",
    "        image_aug = seq_det.augment_images([image])[0]\n",
    "        bbs_aug = seq_det.augment_bounding_boxes([bbs])[0]\n",
    "\n",
    "        new_image_file = output_dir + annotations[idx][2]\n",
    "        cv2.imwrite(new_image_file, image_aug)\n",
    "\n",
    "        h, w = np.shape(image_aug)[0:2]\n",
    "        voc_writer = Writer(new_image_file, w, h)\n",
    "\n",
    "        for i in range(len(bbs_aug.bounding_boxes)):\n",
    "            bb_box = bbs_aug.bounding_boxes[i]\n",
    "            voc_writer.addObject(boxes[i][0], int(bb_box.x1), int(bb_box.y1), int(bb_box.x2), int(bb_box.y2))\n",
    "\n",
    "        voc_writer.save(output_dir + annotations[idx][1])"
   ]
  },
  {
   "cell_type": "code",
   "execution_count": 38,
   "metadata": {},
   "outputs": [],
   "source": [
    "# 지정한 퍼센트만큼 이미지를 dropout 해준다.\n",
    "def dropout(input_dir, output_dir):\n",
    "    ia.seed(1)\n",
    "\n",
    "    dir = input_dir\n",
    "    images, annotations = read_train_dataset(dir)\n",
    "\n",
    "    for idx in tqdm_notebook(range(len(images))):\n",
    "        image = images[idx]\n",
    "        boxes = annotations[idx][0]\n",
    "\n",
    "        ia_bounding_boxes = []\n",
    "        for box in boxes:\n",
    "            ia_bounding_boxes.append(ia.BoundingBox(x1=box[1], y1=box[2], x2=box[3], y2=box[4]))\n",
    "\n",
    "        bbs = ia.BoundingBoxesOnImage(ia_bounding_boxes, shape=image.shape)\n",
    "\n",
    "        seq = iaa.Dropout(p=(0, 0.05)) # 이미지의 0퍼센트~5퍼센트를 랜덤으로 dropout\n",
    "        \n",
    "        seq_det = seq.to_deterministic()\n",
    "\n",
    "        image_aug = seq_det.augment_images([image])[0]\n",
    "        bbs_aug = seq_det.augment_bounding_boxes([bbs])[0]\n",
    "\n",
    "        new_image_file = output_dir + annotations[idx][2]\n",
    "        cv2.imwrite(new_image_file, image_aug)\n",
    "\n",
    "        h, w = np.shape(image_aug)[0:2]\n",
    "        voc_writer = Writer(new_image_file, w, h)\n",
    "\n",
    "        for i in range(len(bbs_aug.bounding_boxes)):\n",
    "            bb_box = bbs_aug.bounding_boxes[i]\n",
    "            voc_writer.addObject(boxes[i][0], int(bb_box.x1), int(bb_box.y1), int(bb_box.x2), int(bb_box.y2))\n",
    "\n",
    "        voc_writer.save(output_dir + annotations[idx][1])"
   ]
  },
  {
   "cell_type": "markdown",
   "metadata": {},
   "source": [
    "1. original\n",
    "2. noise\n",
    "3. rot\n",
    "4. blur\n",
    "5. box\n",
    "6. bright\n",
    "8. noise_box\n",
    "14. rot_bright"
   ]
  },
  {
   "cell_type": "code",
   "execution_count": 9,
   "metadata": {},
   "outputs": [],
   "source": [
    "import os"
   ]
  },
  {
   "cell_type": "code",
   "execution_count": 10,
   "metadata": {},
   "outputs": [],
   "source": [
    "def createDirectory(directory):\n",
    "    try:\n",
    "        if not os.path.exists(directory):\n",
    "            os.makedirs(directory)\n",
    "    except OSError:\n",
    "        print(\"Error: Failed to create the directory.\")"
   ]
  },
  {
   "cell_type": "code",
   "execution_count": 11,
   "metadata": {},
   "outputs": [],
   "source": [
    "def custom_aug(input_dir, output_dir):\n",
    "    print(\"1. noise\")\n",
    "    noise_dir = os.path.join(output_dir, \"noise/\")\n",
    "    createDirectory(noise_dir)\n",
    "    noise(input_dir, noise_dir)\n",
    "    \n",
    "    print(\"2. rotation\")\n",
    "    rot_dir = os.path.join(output_dir, \"rot/\")\n",
    "    createDirectory(rot_dir)\n",
    "    rotation(input_dir, rot_dir)\n",
    "    \n",
    "    print(\"3. blur\")\n",
    "    blur_dir = os.path.join(output_dir, \"blur/\")\n",
    "    createDirectory(blur_dir)\n",
    "    blur(input_dir, blur_dir)\n",
    "    \n",
    "    print(\"4. box\")\n",
    "    box_dir = os.path.join(output_dir, \"box/\")\n",
    "    createDirectory(box_dir)\n",
    "    box(input_dir, box_dir)\n",
    "    \n",
    "    print(\"5. bright\")\n",
    "    bright_dir = os.path.join(output_dir, \"bright/\")\n",
    "    createDirectory(bright_dir)\n",
    "    bright(input_dir, bright_dir)\n",
    "    \n",
    "    print(\"6. noise_box\")\n",
    "    noise_box_dir = os.path.join(output_dir, \"noise_box/\")\n",
    "    createDirectory(noise_box_dir)\n",
    "    box(noise_dir, noise_box_dir)\n",
    "    \n",
    "    print(\"7. rot_bright\")\n",
    "    rot_bright_dir = os.path.join(output_dir, \"rot_bright/\")\n",
    "    createDirectory(rot_bright_dir)\n",
    "    bright(rot_dir, rot_bright_dir)"
   ]
  },
  {
   "cell_type": "code",
   "execution_count": 12,
   "metadata": {},
   "outputs": [
    {
     "name": "stdout",
     "output_type": "stream",
     "text": [
      "['18_pringles_onion', '17_changgu', '14_swingchip_hot', '15_turtle_chips', '20_pocachip_onion', '12_nacho_cheese', '13_oh_potato']\n"
     ]
    }
   ],
   "source": [
    "PROJECT_DIR = '/Users/kyh/Desktop/workspace'\n",
    "temp = os.listdir(PROJECT_DIR)\n",
    "file_list = []\n",
    "for t in temp:\n",
    "    if t != \".DS_Store\" and t != \"imgaug.ipynb\" and t != \".ipynb_checkpoints\":\n",
    "        file_list.append(t)\n",
    "print(file_list)"
   ]
  },
  {
   "cell_type": "code",
   "execution_count": 13,
   "metadata": {},
   "outputs": [
    {
     "name": "stderr",
     "output_type": "stream",
     "text": [
      "/Users/kyh/opt/anaconda3/envs/nlp/lib/python3.7/site-packages/ipykernel_launcher.py:1: TqdmDeprecationWarning: This function will be removed in tqdm==5.0.0\n",
      "Please use `tqdm.notebook.tqdm` instead of `tqdm.tqdm_notebook`\n",
      "  \"\"\"Entry point for launching an IPython kernel.\n"
     ]
    },
    {
     "data": {
      "application/vnd.jupyter.widget-view+json": {
       "model_id": "a12f226fb77e4ee9963140d5ccac38e7",
       "version_major": 2,
       "version_minor": 0
      },
      "text/plain": [
       "  0%|          | 0/7 [00:00<?, ?it/s]"
      ]
     },
     "metadata": {},
     "output_type": "display_data"
    },
    {
     "name": "stdout",
     "output_type": "stream",
     "text": [
      "Input :  /Users/kyh/Desktop/workspace/18_pringles_onion/original/\n",
      "Output :  /Users/kyh/Desktop/workspace/18_pringles_onion\n",
      "1. noise\n"
     ]
    },
    {
     "name": "stderr",
     "output_type": "stream",
     "text": [
      "/Users/kyh/opt/anaconda3/envs/nlp/lib/python3.7/site-packages/ipykernel_launcher.py:8: TqdmDeprecationWarning: This function will be removed in tqdm==5.0.0\n",
      "Please use `tqdm.notebook.tqdm` instead of `tqdm.tqdm_notebook`\n",
      "  \n"
     ]
    },
    {
     "data": {
      "application/vnd.jupyter.widget-view+json": {
       "model_id": "af02e9d9fe7f4725b80a2cc0a0761a5c",
       "version_major": 2,
       "version_minor": 0
      },
      "text/plain": [
       "  0%|          | 0/1445 [00:00<?, ?it/s]"
      ]
     },
     "metadata": {},
     "output_type": "display_data"
    },
    {
     "name": "stdout",
     "output_type": "stream",
     "text": [
      "2. rotation\n"
     ]
    },
    {
     "name": "stderr",
     "output_type": "stream",
     "text": [
      "/Users/kyh/opt/anaconda3/envs/nlp/lib/python3.7/site-packages/ipykernel_launcher.py:6: TqdmDeprecationWarning: This function will be removed in tqdm==5.0.0\n",
      "Please use `tqdm.notebook.tqdm` instead of `tqdm.tqdm_notebook`\n",
      "  \n"
     ]
    },
    {
     "data": {
      "application/vnd.jupyter.widget-view+json": {
       "model_id": "e96abe2440704d2498a0f8d95b08a367",
       "version_major": 2,
       "version_minor": 0
      },
      "text/plain": [
       "  0%|          | 0/1445 [00:00<?, ?it/s]"
      ]
     },
     "metadata": {},
     "output_type": "display_data"
    },
    {
     "name": "stdout",
     "output_type": "stream",
     "text": [
      "3. blur\n"
     ]
    },
    {
     "data": {
      "application/vnd.jupyter.widget-view+json": {
       "model_id": "c777a509683b41a7bc0fece20ce3b7f3",
       "version_major": 2,
       "version_minor": 0
      },
      "text/plain": [
       "  0%|          | 0/1445 [00:00<?, ?it/s]"
      ]
     },
     "metadata": {},
     "output_type": "display_data"
    },
    {
     "name": "stdout",
     "output_type": "stream",
     "text": [
      "4. box\n"
     ]
    },
    {
     "data": {
      "application/vnd.jupyter.widget-view+json": {
       "model_id": "2ef0e381d74843dcb118599aa593c67c",
       "version_major": 2,
       "version_minor": 0
      },
      "text/plain": [
       "  0%|          | 0/1445 [00:00<?, ?it/s]"
      ]
     },
     "metadata": {},
     "output_type": "display_data"
    },
    {
     "name": "stdout",
     "output_type": "stream",
     "text": [
      "5. bright\n"
     ]
    },
    {
     "data": {
      "application/vnd.jupyter.widget-view+json": {
       "model_id": "7b333e77e964458d8258d8926451e787",
       "version_major": 2,
       "version_minor": 0
      },
      "text/plain": [
       "  0%|          | 0/1445 [00:00<?, ?it/s]"
      ]
     },
     "metadata": {},
     "output_type": "display_data"
    },
    {
     "name": "stdout",
     "output_type": "stream",
     "text": [
      "6. noise_box\n"
     ]
    },
    {
     "data": {
      "application/vnd.jupyter.widget-view+json": {
       "model_id": "5c07dd5c0843461ca8448e0605477fff",
       "version_major": 2,
       "version_minor": 0
      },
      "text/plain": [
       "  0%|          | 0/1445 [00:00<?, ?it/s]"
      ]
     },
     "metadata": {},
     "output_type": "display_data"
    },
    {
     "name": "stdout",
     "output_type": "stream",
     "text": [
      "7. rot_bright\n"
     ]
    },
    {
     "data": {
      "application/vnd.jupyter.widget-view+json": {
       "model_id": "c3c7d326759a4821a329e3ef58e95c54",
       "version_major": 2,
       "version_minor": 0
      },
      "text/plain": [
       "  0%|          | 0/1445 [00:00<?, ?it/s]"
      ]
     },
     "metadata": {},
     "output_type": "display_data"
    },
    {
     "name": "stdout",
     "output_type": "stream",
     "text": [
      "Input :  /Users/kyh/Desktop/workspace/17_changgu/original/\n",
      "Output :  /Users/kyh/Desktop/workspace/17_changgu\n",
      "1. noise\n"
     ]
    },
    {
     "name": "stderr",
     "output_type": "stream",
     "text": [
      "/Users/kyh/opt/anaconda3/envs/nlp/lib/python3.7/site-packages/ipykernel_launcher.py:16: VisibleDeprecationWarning: Creating an ndarray from ragged nested sequences (which is a list-or-tuple of lists-or-tuples-or ndarrays with different lengths or shapes) is deprecated. If you meant to do this, you must specify 'dtype=object' when creating the ndarray\n",
      "  app.launch_new_instance()\n"
     ]
    },
    {
     "data": {
      "application/vnd.jupyter.widget-view+json": {
       "model_id": "b1e0a522c4834babb6f232b77bcf560a",
       "version_major": 2,
       "version_minor": 0
      },
      "text/plain": [
       "  0%|          | 0/1090 [00:00<?, ?it/s]"
      ]
     },
     "metadata": {},
     "output_type": "display_data"
    },
    {
     "name": "stdout",
     "output_type": "stream",
     "text": [
      "2. rotation\n"
     ]
    },
    {
     "data": {
      "application/vnd.jupyter.widget-view+json": {
       "model_id": "a945308fbf714646bcdfaf264a222232",
       "version_major": 2,
       "version_minor": 0
      },
      "text/plain": [
       "  0%|          | 0/1090 [00:00<?, ?it/s]"
      ]
     },
     "metadata": {},
     "output_type": "display_data"
    },
    {
     "name": "stdout",
     "output_type": "stream",
     "text": [
      "3. blur\n"
     ]
    },
    {
     "data": {
      "application/vnd.jupyter.widget-view+json": {
       "model_id": "fa057a47ea8b4c4d8485c46553e48446",
       "version_major": 2,
       "version_minor": 0
      },
      "text/plain": [
       "  0%|          | 0/1090 [00:00<?, ?it/s]"
      ]
     },
     "metadata": {},
     "output_type": "display_data"
    },
    {
     "name": "stdout",
     "output_type": "stream",
     "text": [
      "4. box\n"
     ]
    },
    {
     "data": {
      "application/vnd.jupyter.widget-view+json": {
       "model_id": "08d8aa6ce6ed4a13853f6b726d445bc3",
       "version_major": 2,
       "version_minor": 0
      },
      "text/plain": [
       "  0%|          | 0/1090 [00:00<?, ?it/s]"
      ]
     },
     "metadata": {},
     "output_type": "display_data"
    },
    {
     "name": "stdout",
     "output_type": "stream",
     "text": [
      "5. bright\n"
     ]
    },
    {
     "data": {
      "application/vnd.jupyter.widget-view+json": {
       "model_id": "7f81a1ae6a494de5a051f093ad9cb79f",
       "version_major": 2,
       "version_minor": 0
      },
      "text/plain": [
       "  0%|          | 0/1090 [00:00<?, ?it/s]"
      ]
     },
     "metadata": {},
     "output_type": "display_data"
    },
    {
     "name": "stdout",
     "output_type": "stream",
     "text": [
      "6. noise_box\n"
     ]
    },
    {
     "data": {
      "application/vnd.jupyter.widget-view+json": {
       "model_id": "cecb286bb919418f943b03656c0cd072",
       "version_major": 2,
       "version_minor": 0
      },
      "text/plain": [
       "  0%|          | 0/1090 [00:00<?, ?it/s]"
      ]
     },
     "metadata": {},
     "output_type": "display_data"
    },
    {
     "name": "stdout",
     "output_type": "stream",
     "text": [
      "7. rot_bright\n"
     ]
    },
    {
     "data": {
      "application/vnd.jupyter.widget-view+json": {
       "model_id": "eeba52abc5a44be9b8897659befd66b4",
       "version_major": 2,
       "version_minor": 0
      },
      "text/plain": [
       "  0%|          | 0/1090 [00:00<?, ?it/s]"
      ]
     },
     "metadata": {},
     "output_type": "display_data"
    },
    {
     "name": "stdout",
     "output_type": "stream",
     "text": [
      "Input :  /Users/kyh/Desktop/workspace/14_swingchip_hot/original/\n",
      "Output :  /Users/kyh/Desktop/workspace/14_swingchip_hot\n",
      "1. noise\n"
     ]
    },
    {
     "data": {
      "application/vnd.jupyter.widget-view+json": {
       "model_id": "c4ff1391fafd4430a2fddfaac4e1abb8",
       "version_major": 2,
       "version_minor": 0
      },
      "text/plain": [
       "  0%|          | 0/1000 [00:00<?, ?it/s]"
      ]
     },
     "metadata": {},
     "output_type": "display_data"
    },
    {
     "name": "stdout",
     "output_type": "stream",
     "text": [
      "2. rotation\n"
     ]
    },
    {
     "data": {
      "application/vnd.jupyter.widget-view+json": {
       "model_id": "8dda0852ba464ef5902c87b84f73fc01",
       "version_major": 2,
       "version_minor": 0
      },
      "text/plain": [
       "  0%|          | 0/1000 [00:00<?, ?it/s]"
      ]
     },
     "metadata": {},
     "output_type": "display_data"
    },
    {
     "name": "stdout",
     "output_type": "stream",
     "text": [
      "3. blur\n"
     ]
    },
    {
     "data": {
      "application/vnd.jupyter.widget-view+json": {
       "model_id": "c4e64ef182d44528849aadd22061bb3c",
       "version_major": 2,
       "version_minor": 0
      },
      "text/plain": [
       "  0%|          | 0/1000 [00:00<?, ?it/s]"
      ]
     },
     "metadata": {},
     "output_type": "display_data"
    },
    {
     "name": "stdout",
     "output_type": "stream",
     "text": [
      "4. box\n"
     ]
    },
    {
     "data": {
      "application/vnd.jupyter.widget-view+json": {
       "model_id": "2d197b2c4ae746499f8a3193d82fa193",
       "version_major": 2,
       "version_minor": 0
      },
      "text/plain": [
       "  0%|          | 0/1000 [00:00<?, ?it/s]"
      ]
     },
     "metadata": {},
     "output_type": "display_data"
    },
    {
     "name": "stdout",
     "output_type": "stream",
     "text": [
      "5. bright\n"
     ]
    },
    {
     "data": {
      "application/vnd.jupyter.widget-view+json": {
       "model_id": "ddc6efd89e964e35a5941fe954c2ef4a",
       "version_major": 2,
       "version_minor": 0
      },
      "text/plain": [
       "  0%|          | 0/1000 [00:00<?, ?it/s]"
      ]
     },
     "metadata": {},
     "output_type": "display_data"
    },
    {
     "name": "stdout",
     "output_type": "stream",
     "text": [
      "6. noise_box\n"
     ]
    },
    {
     "data": {
      "application/vnd.jupyter.widget-view+json": {
       "model_id": "c10ab594058e4f09a8bba5c3df45a6e0",
       "version_major": 2,
       "version_minor": 0
      },
      "text/plain": [
       "  0%|          | 0/1000 [00:00<?, ?it/s]"
      ]
     },
     "metadata": {},
     "output_type": "display_data"
    },
    {
     "name": "stdout",
     "output_type": "stream",
     "text": [
      "7. rot_bright\n"
     ]
    },
    {
     "data": {
      "application/vnd.jupyter.widget-view+json": {
       "model_id": "15a400dcbf134a66bad72d2f8740a45b",
       "version_major": 2,
       "version_minor": 0
      },
      "text/plain": [
       "  0%|          | 0/1000 [00:00<?, ?it/s]"
      ]
     },
     "metadata": {},
     "output_type": "display_data"
    },
    {
     "name": "stdout",
     "output_type": "stream",
     "text": [
      "Input :  /Users/kyh/Desktop/workspace/15_turtle_chips/original/\n",
      "Output :  /Users/kyh/Desktop/workspace/15_turtle_chips\n",
      "1. noise\n"
     ]
    },
    {
     "data": {
      "application/vnd.jupyter.widget-view+json": {
       "model_id": "f9490c29f72e4735b795f684a85e7abf",
       "version_major": 2,
       "version_minor": 0
      },
      "text/plain": [
       "  0%|          | 0/997 [00:00<?, ?it/s]"
      ]
     },
     "metadata": {},
     "output_type": "display_data"
    },
    {
     "name": "stdout",
     "output_type": "stream",
     "text": [
      "2. rotation\n"
     ]
    },
    {
     "data": {
      "application/vnd.jupyter.widget-view+json": {
       "model_id": "d9aa547ea2e1454382e05701c828bd02",
       "version_major": 2,
       "version_minor": 0
      },
      "text/plain": [
       "  0%|          | 0/997 [00:00<?, ?it/s]"
      ]
     },
     "metadata": {},
     "output_type": "display_data"
    },
    {
     "name": "stdout",
     "output_type": "stream",
     "text": [
      "3. blur\n"
     ]
    },
    {
     "data": {
      "application/vnd.jupyter.widget-view+json": {
       "model_id": "878d0687ddc3445483b0b47ddd8ca6eb",
       "version_major": 2,
       "version_minor": 0
      },
      "text/plain": [
       "  0%|          | 0/997 [00:00<?, ?it/s]"
      ]
     },
     "metadata": {},
     "output_type": "display_data"
    },
    {
     "name": "stdout",
     "output_type": "stream",
     "text": [
      "4. box\n"
     ]
    },
    {
     "data": {
      "application/vnd.jupyter.widget-view+json": {
       "model_id": "e92e1b0cc54643348ca42ad4e385a98b",
       "version_major": 2,
       "version_minor": 0
      },
      "text/plain": [
       "  0%|          | 0/997 [00:00<?, ?it/s]"
      ]
     },
     "metadata": {},
     "output_type": "display_data"
    },
    {
     "name": "stdout",
     "output_type": "stream",
     "text": [
      "5. bright\n"
     ]
    },
    {
     "data": {
      "application/vnd.jupyter.widget-view+json": {
       "model_id": "10799ea8af5b436391162488918a4700",
       "version_major": 2,
       "version_minor": 0
      },
      "text/plain": [
       "  0%|          | 0/997 [00:00<?, ?it/s]"
      ]
     },
     "metadata": {},
     "output_type": "display_data"
    },
    {
     "name": "stdout",
     "output_type": "stream",
     "text": [
      "6. noise_box\n"
     ]
    },
    {
     "data": {
      "application/vnd.jupyter.widget-view+json": {
       "model_id": "b054f0a05051457ab8cc10e3c8f3042b",
       "version_major": 2,
       "version_minor": 0
      },
      "text/plain": [
       "  0%|          | 0/997 [00:00<?, ?it/s]"
      ]
     },
     "metadata": {},
     "output_type": "display_data"
    },
    {
     "name": "stdout",
     "output_type": "stream",
     "text": [
      "7. rot_bright\n"
     ]
    },
    {
     "data": {
      "application/vnd.jupyter.widget-view+json": {
       "model_id": "788670c0a0d945f09c08964e5998ade9",
       "version_major": 2,
       "version_minor": 0
      },
      "text/plain": [
       "  0%|          | 0/997 [00:00<?, ?it/s]"
      ]
     },
     "metadata": {},
     "output_type": "display_data"
    },
    {
     "name": "stdout",
     "output_type": "stream",
     "text": [
      "Input :  /Users/kyh/Desktop/workspace/20_pocachip_onion/original/\n",
      "Output :  /Users/kyh/Desktop/workspace/20_pocachip_onion\n",
      "1. noise\n"
     ]
    },
    {
     "data": {
      "application/vnd.jupyter.widget-view+json": {
       "model_id": "bef12cd1b4dc47089cfea71926ae7097",
       "version_major": 2,
       "version_minor": 0
      },
      "text/plain": [
       "  0%|          | 0/1376 [00:00<?, ?it/s]"
      ]
     },
     "metadata": {},
     "output_type": "display_data"
    },
    {
     "name": "stdout",
     "output_type": "stream",
     "text": [
      "2. rotation\n"
     ]
    },
    {
     "data": {
      "application/vnd.jupyter.widget-view+json": {
       "model_id": "9086b76fae0d460a9d37efa196ee7720",
       "version_major": 2,
       "version_minor": 0
      },
      "text/plain": [
       "  0%|          | 0/1376 [00:00<?, ?it/s]"
      ]
     },
     "metadata": {},
     "output_type": "display_data"
    },
    {
     "name": "stdout",
     "output_type": "stream",
     "text": [
      "3. blur\n"
     ]
    },
    {
     "data": {
      "application/vnd.jupyter.widget-view+json": {
       "model_id": "4bb9e279d3344f96a07307cc8329398a",
       "version_major": 2,
       "version_minor": 0
      },
      "text/plain": [
       "  0%|          | 0/1376 [00:00<?, ?it/s]"
      ]
     },
     "metadata": {},
     "output_type": "display_data"
    },
    {
     "name": "stdout",
     "output_type": "stream",
     "text": [
      "4. box\n"
     ]
    },
    {
     "data": {
      "application/vnd.jupyter.widget-view+json": {
       "model_id": "3663f2c23ec6465c9510b0013c0b2e65",
       "version_major": 2,
       "version_minor": 0
      },
      "text/plain": [
       "  0%|          | 0/1376 [00:00<?, ?it/s]"
      ]
     },
     "metadata": {},
     "output_type": "display_data"
    },
    {
     "name": "stdout",
     "output_type": "stream",
     "text": [
      "5. bright\n"
     ]
    },
    {
     "data": {
      "application/vnd.jupyter.widget-view+json": {
       "model_id": "30fd2faabfec4c639d7325dfda71a6ac",
       "version_major": 2,
       "version_minor": 0
      },
      "text/plain": [
       "  0%|          | 0/1376 [00:00<?, ?it/s]"
      ]
     },
     "metadata": {},
     "output_type": "display_data"
    },
    {
     "name": "stdout",
     "output_type": "stream",
     "text": [
      "6. noise_box\n"
     ]
    },
    {
     "data": {
      "application/vnd.jupyter.widget-view+json": {
       "model_id": "9e35b3b45c0a4ff49c235a6ee4604bdb",
       "version_major": 2,
       "version_minor": 0
      },
      "text/plain": [
       "  0%|          | 0/1376 [00:00<?, ?it/s]"
      ]
     },
     "metadata": {},
     "output_type": "display_data"
    },
    {
     "name": "stdout",
     "output_type": "stream",
     "text": [
      "7. rot_bright\n"
     ]
    },
    {
     "data": {
      "application/vnd.jupyter.widget-view+json": {
       "model_id": "fc6baa70df08484ebfdcc33c395676ce",
       "version_major": 2,
       "version_minor": 0
      },
      "text/plain": [
       "  0%|          | 0/1376 [00:00<?, ?it/s]"
      ]
     },
     "metadata": {},
     "output_type": "display_data"
    },
    {
     "name": "stdout",
     "output_type": "stream",
     "text": [
      "Input :  /Users/kyh/Desktop/workspace/12_nacho_cheese/original/\n",
      "Output :  /Users/kyh/Desktop/workspace/12_nacho_cheese\n",
      "1. noise\n"
     ]
    },
    {
     "data": {
      "application/vnd.jupyter.widget-view+json": {
       "model_id": "dcf22ac843b04b1a9e82467d05bafc90",
       "version_major": 2,
       "version_minor": 0
      },
      "text/plain": [
       "  0%|          | 0/1000 [00:00<?, ?it/s]"
      ]
     },
     "metadata": {},
     "output_type": "display_data"
    },
    {
     "name": "stdout",
     "output_type": "stream",
     "text": [
      "2. rotation\n"
     ]
    },
    {
     "data": {
      "application/vnd.jupyter.widget-view+json": {
       "model_id": "5d0871f9d33d457a899ef17a1e48da9f",
       "version_major": 2,
       "version_minor": 0
      },
      "text/plain": [
       "  0%|          | 0/1000 [00:00<?, ?it/s]"
      ]
     },
     "metadata": {},
     "output_type": "display_data"
    },
    {
     "name": "stdout",
     "output_type": "stream",
     "text": [
      "3. blur\n"
     ]
    },
    {
     "data": {
      "application/vnd.jupyter.widget-view+json": {
       "model_id": "8a1500ad1b344d79b258ded93b3a0d0b",
       "version_major": 2,
       "version_minor": 0
      },
      "text/plain": [
       "  0%|          | 0/1000 [00:00<?, ?it/s]"
      ]
     },
     "metadata": {},
     "output_type": "display_data"
    },
    {
     "name": "stdout",
     "output_type": "stream",
     "text": [
      "4. box\n"
     ]
    },
    {
     "data": {
      "application/vnd.jupyter.widget-view+json": {
       "model_id": "d46ccf87eb3c4c9092264f57c1e6e225",
       "version_major": 2,
       "version_minor": 0
      },
      "text/plain": [
       "  0%|          | 0/1000 [00:00<?, ?it/s]"
      ]
     },
     "metadata": {},
     "output_type": "display_data"
    },
    {
     "name": "stdout",
     "output_type": "stream",
     "text": [
      "5. bright\n"
     ]
    },
    {
     "data": {
      "application/vnd.jupyter.widget-view+json": {
       "model_id": "b807a58e48f14f2fadb889303dd2f56c",
       "version_major": 2,
       "version_minor": 0
      },
      "text/plain": [
       "  0%|          | 0/1000 [00:00<?, ?it/s]"
      ]
     },
     "metadata": {},
     "output_type": "display_data"
    },
    {
     "name": "stdout",
     "output_type": "stream",
     "text": [
      "6. noise_box\n"
     ]
    },
    {
     "data": {
      "application/vnd.jupyter.widget-view+json": {
       "model_id": "89e020ab7f754142bcd272364af5751a",
       "version_major": 2,
       "version_minor": 0
      },
      "text/plain": [
       "  0%|          | 0/1000 [00:00<?, ?it/s]"
      ]
     },
     "metadata": {},
     "output_type": "display_data"
    },
    {
     "name": "stdout",
     "output_type": "stream",
     "text": [
      "7. rot_bright\n"
     ]
    },
    {
     "data": {
      "application/vnd.jupyter.widget-view+json": {
       "model_id": "07a83e7329cb4723985e5088f552abc5",
       "version_major": 2,
       "version_minor": 0
      },
      "text/plain": [
       "  0%|          | 0/1000 [00:00<?, ?it/s]"
      ]
     },
     "metadata": {},
     "output_type": "display_data"
    },
    {
     "name": "stdout",
     "output_type": "stream",
     "text": [
      "Input :  /Users/kyh/Desktop/workspace/13_oh_potato/original/\n",
      "Output :  /Users/kyh/Desktop/workspace/13_oh_potato\n",
      "1. noise\n"
     ]
    },
    {
     "data": {
      "application/vnd.jupyter.widget-view+json": {
       "model_id": "15247cb60115434cb6f7ab13de7ac76b",
       "version_major": 2,
       "version_minor": 0
      },
      "text/plain": [
       "  0%|          | 0/1000 [00:00<?, ?it/s]"
      ]
     },
     "metadata": {},
     "output_type": "display_data"
    },
    {
     "name": "stdout",
     "output_type": "stream",
     "text": [
      "2. rotation\n"
     ]
    },
    {
     "data": {
      "application/vnd.jupyter.widget-view+json": {
       "model_id": "2fd9d471f78143d6985bc3b766c6d75e",
       "version_major": 2,
       "version_minor": 0
      },
      "text/plain": [
       "  0%|          | 0/1000 [00:00<?, ?it/s]"
      ]
     },
     "metadata": {},
     "output_type": "display_data"
    },
    {
     "name": "stdout",
     "output_type": "stream",
     "text": [
      "3. blur\n"
     ]
    },
    {
     "data": {
      "application/vnd.jupyter.widget-view+json": {
       "model_id": "86996bb234aa4a389777b86f915bb96c",
       "version_major": 2,
       "version_minor": 0
      },
      "text/plain": [
       "  0%|          | 0/1000 [00:00<?, ?it/s]"
      ]
     },
     "metadata": {},
     "output_type": "display_data"
    },
    {
     "name": "stdout",
     "output_type": "stream",
     "text": [
      "4. box\n"
     ]
    },
    {
     "data": {
      "application/vnd.jupyter.widget-view+json": {
       "model_id": "8616754508b340ccb45beb4a154a5968",
       "version_major": 2,
       "version_minor": 0
      },
      "text/plain": [
       "  0%|          | 0/1000 [00:00<?, ?it/s]"
      ]
     },
     "metadata": {},
     "output_type": "display_data"
    },
    {
     "name": "stdout",
     "output_type": "stream",
     "text": [
      "5. bright\n"
     ]
    },
    {
     "data": {
      "application/vnd.jupyter.widget-view+json": {
       "model_id": "28ded5ee4de44b5dac05d382f9129c28",
       "version_major": 2,
       "version_minor": 0
      },
      "text/plain": [
       "  0%|          | 0/1000 [00:00<?, ?it/s]"
      ]
     },
     "metadata": {},
     "output_type": "display_data"
    },
    {
     "name": "stdout",
     "output_type": "stream",
     "text": [
      "6. noise_box\n"
     ]
    },
    {
     "data": {
      "application/vnd.jupyter.widget-view+json": {
       "model_id": "73b4b329ac07482092f8d5971a015ecc",
       "version_major": 2,
       "version_minor": 0
      },
      "text/plain": [
       "  0%|          | 0/1000 [00:00<?, ?it/s]"
      ]
     },
     "metadata": {},
     "output_type": "display_data"
    },
    {
     "name": "stdout",
     "output_type": "stream",
     "text": [
      "7. rot_bright\n"
     ]
    },
    {
     "data": {
      "application/vnd.jupyter.widget-view+json": {
       "model_id": "2f15937dcf46490fa67fc5b8ae63678c",
       "version_major": 2,
       "version_minor": 0
      },
      "text/plain": [
       "  0%|          | 0/1000 [00:00<?, ?it/s]"
      ]
     },
     "metadata": {},
     "output_type": "display_data"
    }
   ],
   "source": [
    "for file in tqdm_notebook(file_list):\n",
    "    input_dir = os.path.join(PROJECT_DIR, os.path.join(file, \"original/\"))\n",
    "    output_dir = os.path.join(PROJECT_DIR, file)\n",
    "    print(\"Input : \", input_dir)\n",
    "    print(\"Output : \", output_dir)\n",
    "    custom_aug(input_dir, output_dir)"
   ]
  },
  {
   "cell_type": "code",
   "execution_count": null,
   "metadata": {},
   "outputs": [],
   "source": []
  }
 ],
 "metadata": {
  "kernelspec": {
   "display_name": "Python 3",
   "language": "python",
   "name": "python3"
  },
  "language_info": {
   "codemirror_mode": {
    "name": "ipython",
    "version": 3
   },
   "file_extension": ".py",
   "mimetype": "text/x-python",
   "name": "python",
   "nbconvert_exporter": "python",
   "pygments_lexer": "ipython3",
   "version": "3.8.3"
  }
 },
 "nbformat": 4,
 "nbformat_minor": 4
}
